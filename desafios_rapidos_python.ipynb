{
  "nbformat": 4,
  "nbformat_minor": 0,
  "metadata": {
    "colab": {
      "name": "desafios_rapidos_python.ipynb",
      "provenance": [],
      "collapsed_sections": [],
      "include_colab_link": true
    },
    "kernelspec": {
      "name": "python3",
      "display_name": "Python 3"
    },
    "language_info": {
      "name": "python"
    }
  },
  "cells": [
    {
      "cell_type": "markdown",
      "metadata": {
        "id": "view-in-github",
        "colab_type": "text"
      },
      "source": [
        "<a href=\"https://colab.research.google.com/github/BrunoGiles/br-python-challenges/blob/master/desafios_rapidos_python.ipynb\" target=\"_parent\"><img src=\"https://colab.research.google.com/assets/colab-badge.svg\" alt=\"Open In Colab\"/></a>"
      ]
    },
    {
      "cell_type": "markdown",
      "metadata": {
        "id": "WawsKpnIapWD"
      },
      "source": [
        "## Desafio Capitalização \n",
        "\n",
        "Seu desafio é construir um sistema que garante que os nomes recebidos para um sistema de cadastramento de usuários sejam salvos \n",
        "considerando a primeira letra de cada nome como maiúscula e as demais minusculas.\n",
        "\n",
        "Assim temos para um nome como **i**vanIldo **s**antOs a saida **I**vanildo **S**antos\n",
        "\n",
        "Sua função deve ter a seguinte assinatura \n",
        "\n",
        "```\n",
        "ajusta_nome(nome)\n",
        "```\n",
        "\n",
        "Não é permitido utilizar o método str.capitalize"
      ]
    },
    {
      "cell_type": "code",
      "metadata": {
        "id": "BdbQOz4JbJN3"
      },
      "source": [
        "## Coloque Seu Código Aqui:"
      ],
      "execution_count": null,
      "outputs": []
    },
    {
      "cell_type": "code",
      "metadata": {
        "colab": {
          "base_uri": "https://localhost:8080/"
        },
        "id": "JjGqm8qObKBa",
        "outputId": "b4b5e45f-01a7-45ed-e217-6411f83cd05a"
      },
      "source": [
        "## Testes \n",
        "\n",
        "print(ajusta_nome('batata Doce')=='Batata Doce')\n",
        "\n",
        "print(ajusta_nome('EstAdos uniDOS')=='Estados Unidos')"
      ],
      "execution_count": null,
      "outputs": [
        {
          "output_type": "stream",
          "name": "stdout",
          "text": [
            "True\n",
            "True\n"
          ]
        }
      ]
    },
    {
      "cell_type": "markdown",
      "metadata": {
        "id": "8Cxi87mDeQvs"
      },
      "source": [
        "## Validador de números Primos\n",
        "\n",
        "Crie uma função que recebe um número e verifica se o mesmo é um número primo. Os números primos são os números naturais que podem ser divididos por apenas dois fatores: o número 1 e ele mesmo.\n",
        "\n",
        "este possui a seguinte assinatura\n",
        "\n",
        "```\n",
        "eh_primo(n)\n",
        "```\n",
        "\n",
        "E retorna True ou False de acordo com a operação\n",
        "\n",
        "Exemplo;\n",
        "\n",
        "Entrada:\n",
        "\n",
        "3\n",
        "\n",
        "2\n",
        "\n",
        "Saida:\n",
        "\n",
        "True\n",
        "\n",
        "False"
      ]
    },
    {
      "cell_type": "code",
      "metadata": {
        "id": "rrYz4xUThk9m"
      },
      "source": [
        "## Coloque Seu Código Aqui:def eh_primo(n):\n"
      ],
      "execution_count": null,
      "outputs": []
    },
    {
      "cell_type": "code",
      "metadata": {
        "id": "R0-ZltXnc3Ii",
        "colab": {
          "base_uri": "https://localhost:8080/"
        },
        "outputId": "17776ec6-c1a4-4a67-8716-a6a322ccba2f"
      },
      "source": [
        "## Teste \n",
        "\n",
        "print(eh_primo(3)==True)\n",
        "\n",
        "print(eh_primo(941)==True)\n",
        "\n",
        "print(eh_primo(2)==True)\n",
        "\n",
        "print(eh_primo(4)==False)\n",
        "\n",
        "print(eh_primo(8)==False)\n"
      ],
      "execution_count": null,
      "outputs": [
        {
          "output_type": "stream",
          "name": "stdout",
          "text": [
            "True\n",
            "True\n",
            "True\n",
            "True\n",
            "True\n"
          ]
        }
      ]
    },
    {
      "cell_type": "markdown",
      "metadata": {
        "id": "aba-PuETf1HZ"
      },
      "source": [
        "Utilizando a função anterior crie uma nova função que recebe uma lista de números e retorna apenas os números primos\n",
        "\n",
        "assinatura:\n",
        "\n",
        "```\n",
        "lita_primos(lista_n)\n",
        "```\n",
        "\n",
        "Exemplo\n",
        "\n",
        "Entrada:\n",
        "\n",
        "[2, 3, 8, 941]\n",
        "\n",
        "Saida:\n",
        "\n",
        "[3, 941]\n",
        "\n",
        "\n"
      ]
    },
    {
      "cell_type": "code",
      "metadata": {
        "id": "YRtW5luVhhDf"
      },
      "source": [
        "## Coloque seu código Aqui:\n"
      ],
      "execution_count": null,
      "outputs": []
    },
    {
      "cell_type": "code",
      "metadata": {
        "id": "zF52yHbBg4T1"
      },
      "source": [
        "## Teste"
      ],
      "execution_count": null,
      "outputs": []
    },
    {
      "cell_type": "code",
      "metadata": {
        "id": "mrnZEPjbg9oE",
        "colab": {
          "base_uri": "https://localhost:8080/"
        },
        "outputId": "be1d3441-e33d-408a-c4c3-e51a3b9a5390"
      },
      "source": [
        "print(lita_primos([2,3,8,35,5,9,12,23])==[2,3,5,23])\n",
        "\n",
        "print(lita_primos([2,4])==[2])"
      ],
      "execution_count": null,
      "outputs": [
        {
          "output_type": "stream",
          "name": "stdout",
          "text": [
            "True\n",
            "True\n"
          ]
        }
      ]
    }
  ]
}